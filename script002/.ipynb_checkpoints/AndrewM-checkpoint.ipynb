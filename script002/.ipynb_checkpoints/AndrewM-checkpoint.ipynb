{
 "cells": [
  {
   "cell_type": "code",
   "execution_count": 1,
   "metadata": {
    "collapsed": true
   },
   "outputs": [],
   "source": [
    "import os\n",
    "import re\n",
    "import requests\n",
    "from lxml import etree\n",
    "import urllib"
   ]
  },
  {
   "cell_type": "code",
   "execution_count": 2,
   "metadata": {
    "collapsed": true
   },
   "outputs": [],
   "source": [
    "url = r'http://www.autonlab.org/tutorials/'"
   ]
  },
  {
   "cell_type": "code",
   "execution_count": 3,
   "metadata": {
    "collapsed": true
   },
   "outputs": [],
   "source": [
    "Headers = {'User-Agent':'Mozilla/5.0 (Windows NT 6.1; WOW64) AppleWebKit/537.36 (KHTML, like Gecko) Chrome/40.0.2214.111 Safari/537.36'}"
   ]
  },
  {
   "cell_type": "code",
   "execution_count": 4,
   "metadata": {
    "collapsed": false
   },
   "outputs": [],
   "source": [
    "html = requests.get(url).text"
   ]
  },
  {
   "cell_type": "code",
   "execution_count": 5,
   "metadata": {
    "collapsed": false
   },
   "outputs": [],
   "source": [
    "tree = etree.HTML(html)"
   ]
  },
  {
   "cell_type": "code",
   "execution_count": 6,
   "metadata": {
    "collapsed": false
   },
   "outputs": [],
   "source": [
    "links = tree.xpath(\"/html/body/ul/li/a/@href\")"
   ]
  },
  {
   "cell_type": "code",
   "execution_count": 7,
   "metadata": {
    "collapsed": false
   },
   "outputs": [],
   "source": [
    "pptpagelinks = map(lambda x:url+x,filter(lambda link:re.match(\"^[^/]+\\.html$\",link),links))"
   ]
  },
  {
   "cell_type": "code",
   "execution_count": 8,
   "metadata": {
    "collapsed": true
   },
   "outputs": [],
   "source": [
    "def cbk(blocknum, blocksize, totalsize):\n",
    "    per = 100.0 * blocknum * blocksize / totalsize  \n",
    "    if per > 100:  \n",
    "        per = 100  \n",
    "    print '%.2f%%' % per  "
   ]
  },
  {
   "cell_type": "code",
   "execution_count": 9,
   "metadata": {
    "collapsed": false
   },
   "outputs": [
    {
     "name": "stdout",
     "output_type": "stream",
     "text": [
      "http://www.autonlab.org/tutorials/mdp.html connection error. 2\n",
      "http://www.autonlab.org/tutorials/biosurveillance_example.html connection error. 2\n",
      "http://www.autonlab.org/tutorials/biosurveillance_example.html connection error. 1\n"
     ]
    }
   ],
   "source": [
    "basedir = os.getcwd()\n",
    "files = os.listdir(basedir)\n",
    "for pptpage in pptpagelinks:\n",
    "    MaxTry = 3\n",
    "    success = False    \n",
    "    while MaxTry > 0 and not success:\n",
    "        try:\n",
    "            pdf = etree.HTML(requests.get(pptpage, headers = Headers, timeout = 3).text).xpath(\"/html/body/h3/a/@href\")[0]\n",
    "            pdfurl = url + pdf\n",
    "            if pdf not in files:\n",
    "                urllib.urlretrieve(pdfurl, pdf, cbk) \n",
    "            success = True\n",
    "        except:\n",
    "            success = False\n",
    "            MaxTry -= 1\n",
    "            print pptpage + ' connection error. %d'%MaxTry     "
   ]
  }
 ],
 "metadata": {
  "kernelspec": {
   "display_name": "Python 2",
   "language": "python",
   "name": "python2"
  },
  "language_info": {
   "codemirror_mode": {
    "name": "ipython",
    "version": 2
   },
   "file_extension": ".py",
   "mimetype": "text/x-python",
   "name": "python",
   "nbconvert_exporter": "python",
   "pygments_lexer": "ipython2",
   "version": "2.7.10"
  }
 },
 "nbformat": 4,
 "nbformat_minor": 0
}
